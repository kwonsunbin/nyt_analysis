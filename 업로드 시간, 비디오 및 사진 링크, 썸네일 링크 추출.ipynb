{
 "cells": [
  {
   "cell_type": "code",
   "execution_count": 2,
   "metadata": {},
   "outputs": [],
   "source": [
    "from selenium import webdriver\n",
    "from selenium.webdriver.common.keys import Keys\n",
    "from selenium.webdriver.support.ui import WebDriverWait\n",
    "from selenium.webdriver.support import expected_conditions as EC\n",
    "from selenium.webdriver.common.by import By\n",
    "import time\n",
    "import requests\n",
    "import pickle\n",
    "import requests\n",
    "from bs4 import BeautifulSoup\n",
    "import pandas as pd\n",
    "\n",
    "# 크롬 드라이버 설치경로\n",
    "chrome_driver_path = 'C:/Users/sunbi/OneDrive/바탕 화면/chromedriver_win32/chromedriver.exe'\n",
    "\n",
    "\n",
    "\n",
    "with open('2016-07-01_to_2016-12-01_nyt_twitter.p', 'rb') as f:\n",
    "    data =pickle.load(f)\n",
    "\n",
    "urls = list(data.keys())\n",
    "\n"
   ]
  },
  {
   "cell_type": "code",
   "execution_count": 3,
   "metadata": {},
   "outputs": [],
   "source": [
    "def findVideolink(url) :\n",
    "    try :\n",
    "        chrome_driver = chrome_driver_path\n",
    "        driver = webdriver.Chrome(chrome_driver) \n",
    "        driver.get(url)\n",
    "        WebDriverWait(driver, 10).until(EC.presence_of_element_located((By.CSS_SELECTOR, 'p.vhs-data'))) \n",
    "        src = driver.page_source\n",
    "        driver.close()\n",
    "        soup = BeautifulSoup(src)\n",
    "        videolink = soup.select_one('p.vhs-data')\n",
    "        videolink = videolink.find('a')['href']\n",
    "    except :\n",
    "        videolink = 'None'\n",
    "    return videolink"
   ]
  },
  {
   "cell_type": "code",
   "execution_count": 4,
   "metadata": {},
   "outputs": [],
   "source": [
    "def findImages(url) :\n",
    "    num_of_pagedowns=50\n",
    "\n",
    "    chrome_driver = chrome_driver_path\n",
    "    driver = webdriver.Chrome(chrome_driver) \n",
    "    driver.get(url)\n",
    "    body = driver.find_element_by_tag_name(\"body\")\n",
    "\n",
    "    while num_of_pagedowns :\n",
    "        body.send_keys(Keys.PAGE_DOWN)\n",
    "        time.sleep(0.3)\n",
    "        num_of_pagedowns-=1\n",
    "\n",
    "    src = driver.page_source\n",
    "    driver.close()\n",
    "    soup = BeautifulSoup(src)\n",
    "    temp = soup.select('picture')\n",
    "    imglist = list(set([i.find('img')['src'] for i in temp]))\n",
    "    return imglist"
   ]
  },
  {
   "cell_type": "code",
   "execution_count": 5,
   "metadata": {},
   "outputs": [],
   "source": [
    "def findThumbnail(url) :\n",
    "    resp = requests.get(url)\n",
    "    soup = BeautifulSoup(resp.text)\n",
    "    thumbnail = soup.find('picture').find('img')['src']\n",
    "    return thumbnail"
   ]
  },
  {
   "cell_type": "code",
   "execution_count": 6,
   "metadata": {},
   "outputs": [],
   "source": [
    "NYT_link =[]\n",
    "videolinks=[]\n",
    "uploadtime=[]\n",
    "images=[]\n",
    "thumbnails =[]\n",
    "\n",
    "for url in urls :\n",
    "    NYT_link.append(url)\n",
    "    \n",
    "    \n",
    "    # 업로드 시간\n",
    "    resp = requests.get(url)\n",
    "    soup = BeautifulSoup(resp.text)\n",
    "    uploadtime.append(str(soup.find('time')['datetime']))\n",
    "    \n",
    "    # 비디오 링크 : 있다면 링크, 없다면 'None'\n",
    "    videolinks.append(findVideolink(url))\n",
    "    \n",
    "    # 기사 사진들 링크(한 기사에 여러개) list로 저장, 썸네일 포함\n",
    "    images.append(findImages(url))\n",
    "    \n",
    "    # 썸네일 사진 링크\n",
    "    thumbnails.append(findThumbnail(url))\n",
    "    \n",
    "output = pd.DataFrame({'NYT link':NYT_link,'videolinks':videolinks, 'uploadtime':uploadtime, 'images':images, 'thumbnail':thumbnails})"
   ]
  },
  {
   "cell_type": "code",
   "execution_count": null,
   "metadata": {},
   "outputs": [],
   "source": [
    "output"
   ]
  }
 ],
 "metadata": {
  "kernelspec": {
   "display_name": "Python 3",
   "language": "python",
   "name": "python3"
  },
  "language_info": {
   "codemirror_mode": {
    "name": "ipython",
    "version": 3
   },
   "file_extension": ".py",
   "mimetype": "text/x-python",
   "name": "python",
   "nbconvert_exporter": "python",
   "pygments_lexer": "ipython3",
   "version": "3.7.4"
  }
 },
 "nbformat": 4,
 "nbformat_minor": 2
}
